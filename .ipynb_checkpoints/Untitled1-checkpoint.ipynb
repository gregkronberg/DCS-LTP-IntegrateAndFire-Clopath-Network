{
 "cells": [
  {
   "cell_type": "code",
   "execution_count": 1,
   "metadata": {},
   "outputs": [
    {
     "data": {
      "text/plain": [
       "<module 'networks_3' from 'C:\\\\Users\\\\Greg Kronberg\\\\Google Drive\\\\Work\\\\GitHub\\\\DCS-LTP-IntegrateAndFire-Clopath-Network\\\\networks_3.py'>"
      ]
     },
     "execution_count": 1,
     "metadata": {},
     "output_type": "execute_result"
    }
   ],
   "source": [
    "import networks_3\n",
    "import equations\n",
    "import matplotlib.pyplot as plt\n",
    "from brian2 import *\n",
    "import imp\n",
    "imp.reload(equations)\n",
    "imp.reload(networks_3)"
   ]
  },
  {
   "cell_type": "code",
   "execution_count": 2,
   "metadata": {},
   "outputs": [],
   "source": [
    "exp = networks_3.exp_litwinkumar_test_2()"
   ]
  },
  {
   "cell_type": "code",
   "execution_count": 3,
   "metadata": {},
   "outputs": [],
   "source": [
    "# prefs.codegen.target = 'numpy'"
   ]
  },
  {
   "cell_type": "code",
   "execution_count": 4,
   "metadata": {
    "scrolled": false
   },
   "outputs": [
    {
     "name": "stdout",
     "output_type": "stream",
     "text": [
      "[[0.         2.80066628 0.         ... 0.         0.         0.        ]\n",
      " [0.         0.         0.         ... 0.         0.         0.        ]\n",
      " [0.         0.         0.         ... 0.         0.         0.        ]\n",
      " ...\n",
      " [0.         0.         0.         ... 0.         0.         0.        ]\n",
      " [0.         0.         0.         ... 0.         0.         0.        ]\n",
      " [0.         0.         0.         ... 0.         2.80695982 0.        ]]\n",
      "[[ 0.          0.         49.01623304 49.03162161  0.          0.\n",
      "   0.          0.          0.          0.        ]\n",
      " [ 0.          0.         49.023909    0.         49.0030461   0.\n",
      "   0.         49.          0.          0.        ]\n",
      " [ 0.         49.00192217  0.          0.          0.          0.\n",
      "  49.          0.         49.16202199  0.        ]\n",
      " [49.01996432  0.          0.          0.          0.         49.\n",
      "  49.          0.          0.          0.        ]\n",
      " [ 0.          0.          0.          0.          0.          0.\n",
      "   0.         49.          0.         49.12074477]\n",
      " [ 0.          0.         49.00759211  0.         49.0021392   0.\n",
      "   0.          0.         49.07670425 49.06560126]\n",
      " [49.0324372  49.          0.          0.          0.         49.\n",
      "  49.          0.          0.         49.09797132]\n",
      " [ 0.          0.          0.         49.02644228  0.         49.\n",
      "   0.          0.          0.         49.05577684]\n",
      " [ 0.          0.          0.          0.          0.         49.\n",
      "  49.          0.          0.          0.        ]\n",
      " [ 0.          0.          0.          0.         49.00401099  0.\n",
      "   0.          0.          0.          0.        ]]\n"
     ]
    },
    {
     "name": "stderr",
     "output_type": "stream",
     "text": [
      "WARNING    \"w_ampa\" is an internal variable of group \"synapses_EE\", but also exists in the group-specific namespace with the value 1.8. The internal variable will be used. [brian2.groups.group.Group.resolve.resolution_conflict]\n",
      "WARNING    \"w_ampa\" is an internal variable of group \"synapses_EI\", but also exists in the group-specific namespace with the value 1.8. The internal variable will be used. [brian2.groups.group.Group.resolve.resolution_conflict]\n",
      "WARNING    \"w_ampa\" is an internal variable of group \"synapses_FE_train\", but also exists in the group-specific namespace with the value 1.8. The internal variable will be used. [brian2.groups.group.Group.resolve.resolution_conflict]\n",
      "WARNING    \"w_ampa\" is an internal variable of group \"synapses_FI_train\", but also exists in the group-specific namespace with the value 1.8. The internal variable will be used. [brian2.groups.group.Group.resolve.resolution_conflict]\n",
      "WARNING    \"w_gaba\" is an internal variable of group \"synapses_IE\", but also exists in the group-specific namespace with the value 20.0. The internal variable will be used. [brian2.groups.group.Group.resolve.resolution_conflict]\n",
      "WARNING    \"w_gaba\" is an internal variable of group \"synapses_II\", but also exists in the group-specific namespace with the value 20.0. The internal variable will be used. [brian2.groups.group.Group.resolve.resolution_conflict]\n"
     ]
    },
    {
     "name": "stdout",
     "output_type": "stream",
     "text": [
      "assemblies dict_keys(['1_1', '1_0', '0_1', '0_0'])\n",
      "assemblies dict_keys(['1_1', '1_0', '0_1', '0_0'])\n",
      "[[0.         2.80342082 0.         ... 0.         0.         0.        ]\n",
      " [0.         0.         0.         ... 0.         0.         0.        ]\n",
      " [0.         0.         0.         ... 0.         0.         0.        ]\n",
      " ...\n",
      " [0.         0.         0.         ... 0.         0.         0.        ]\n",
      " [0.         0.         0.         ... 0.         0.         0.        ]\n",
      " [0.         0.         0.         ... 0.         2.82730186 0.        ]]\n",
      "saving data\n",
      "saving data\n",
      "run duration: 122.54083323478699\n"
     ]
    }
   ],
   "source": [
    "exp.run()"
   ]
  },
  {
   "cell_type": "code",
   "execution_count": 5,
   "metadata": {},
   "outputs": [],
   "source": [
    "# exp.net.run(50*ms)"
   ]
  },
  {
   "cell_type": "code",
   "execution_count": 6,
   "metadata": {
    "scrolled": true
   },
   "outputs": [
    {
     "data": {
      "text/plain": [
       "<synapses_EE.j: array([  1,   3,   8, ..., 485, 488, 497])>"
      ]
     },
     "execution_count": 6,
     "metadata": {},
     "output_type": "execute_result"
    }
   ],
   "source": [
    "# plt.plot(exp.rec['neurons']['E'].u_test.T)\n",
    "# # plt.ylim([-.07,.05])\n",
    "# # plt.xlim([60,100])\n",
    "\n",
    "# plt.figure()\n",
    "# plt.plot(exp.rec['neurons']['E'].I_exp.T)\n",
    "# # plt.ylim([-.00000001,.0000001])\n",
    "# # plt.xlim([60,100])\n",
    "exp.synapses['EE'].j"
   ]
  },
  {
   "cell_type": "code",
   "execution_count": 7,
   "metadata": {
    "scrolled": true
   },
   "outputs": [],
   "source": [
    "# plt.plot(exp.rec['neurons']['E'].u.T)\n",
    "# plt.ylim([-7,.05])"
   ]
  },
  {
   "cell_type": "code",
   "execution_count": 8,
   "metadata": {
    "scrolled": true
   },
   "outputs": [],
   "source": [
    "# plt.plot(exp.rec['neurons']['I'].u_test.T)"
   ]
  },
  {
   "cell_type": "code",
   "execution_count": 9,
   "metadata": {
    "scrolled": true
   },
   "outputs": [],
   "source": [
    "# plt.plot(exp.rec['neurons']['E'].w_clopath_total_recurrent.T)"
   ]
  },
  {
   "cell_type": "code",
   "execution_count": 10,
   "metadata": {},
   "outputs": [],
   "source": [
    "# plt.plot(exp.rec['synapses']['EE'][exp.synapses['EE'][50:100,50:100]].w_clopath.T)\n",
    "# plt.ylim([2.5,3.5])\n",
    "# plt.xlim([80,100])"
   ]
  },
  {
   "cell_type": "code",
   "execution_count": 11,
   "metadata": {},
   "outputs": [],
   "source": [
    "# plt.plot(exp.rec['synapses']['EE'][exp.synapses['EE'][100:150,100:150]].w_clopath.T)"
   ]
  },
  {
   "cell_type": "code",
   "execution_count": 12,
   "metadata": {},
   "outputs": [],
   "source": [
    "# plt.plot(exp.rec['synapses']['IE'].w_vogels.T)"
   ]
  },
  {
   "cell_type": "code",
   "execution_count": 13,
   "metadata": {
    "scrolled": true
   },
   "outputs": [],
   "source": [
    "# plt.figure()\n",
    "# plt.plot(np.mean(exp.rec['synapses']['IE'][exp.synapses['IE'][50:100,50:100]].w_vogels, axis=0),'k')\n",
    "# plt.plot(np.mean(exp.rec['synapses']['IE'][exp.synapses['IE'][50:100,0:50]].w_vogels, axis=0),'r')\n",
    "# plt.plot(np.mean(exp.rec['synapses']['IE'][exp.synapses['IE'][50:100,100:150]].w_vogels, axis=0),'b')\n",
    "# plt.plot(np.mean(exp.rec['synapses']['IE'][exp.synapses['IE'][100:150,50:100]].w_vogels, axis=0),'g')\n",
    "# exp.rec['synapses']['IE'][exp.synapses['IE'][100:102,50:100]].w_vogels.shape\n",
    "# exp.rec['synapses']['IE'].w_vogels.shape\n"
   ]
  },
  {
   "cell_type": "code",
   "execution_count": 14,
   "metadata": {
    "scrolled": true
   },
   "outputs": [
    {
     "data": {
      "text/plain": [
       "[<matplotlib.lines.Line2D at 0x1e6b2442ac8>]"
      ]
     },
     "execution_count": 14,
     "metadata": {},
     "output_type": "execute_result"
    },
    {
     "data": {
      "image/png": "[encoded data removed]",
      "text/plain": [
       "<Figure size 432x288 with 1 Axes>"
      ]
     },
     "metadata": {
      "needs_background": "light"
     },
     "output_type": "display_data"
    },
    {
     "data": {
      "image/png": "[encoded data removed]",
      "text/plain": [
       "<Figure size 432x288 with 1 Axes>"
      ]
     },
     "metadata": {
      "needs_background": "light"
     },
     "output_type": "display_data"
    }
   ],
   "source": [
    "# plt.plot(np.mean(exp.rec['synapses']['EE'][exp.synapses['EE'][0:50,16:17]].w_clopath, axis=0),'k')\n",
    "# plt.plot(np.mean(exp.rec['synapses']['EE'][exp.synapses['EE'][0:100,16:17]].w_clopath, axis=0),'r')\n",
    "# plt.plot(np.mean(exp.rec['synapses']['EE'][exp.synapses['EE'][50:100,16:17]].w_clopath, axis=0),'b')\n",
    "# plt.figure()\n",
    "# plt.plot(np.mean(exp.rec['synapses']['EE'][exp.synapses['EE'][0:50,0:50]].w_clopath, axis=0),'k')\n",
    "# plt.plot(np.mean(exp.rec['synapses']['EE'][exp.synapses['EE'][50:100,50:100]].w_clopath, axis=0),'r')\n",
    "# plt.plot(np.mean(exp.rec['synapses']['EE'][exp.synapses['EE'][0:50,50:100]].w_clopath, axis=0),'b')\n",
    "# plt.plot(np.mean(exp.rec['synapses']['EE'][exp.synapses['EE'][50:100,100:150]].w_clopath, axis=0),'b')\n",
    "# plt.plot(np.mean(exp.rec['synapses']['EE'][exp.synapses['EE'][50:100,0:50]].w_clopath, axis=0),'g')\n",
    "# plt.ylim([2.75,3])\n",
    "test= exp._spike_monitor_to_binary_array(spike_monitor=exp.spike_rec['neurons']['E'], P=exp.P)\n",
    "# print(test.shape)\n",
    "test = np.sum(test[:,:].reshape(test[:,:].shape[0],-1, 10), axis=2)\n",
    "# # test= exp._spike_monitor_to_binary_array(spike_monitor=exp.spike_rec['neurons']['E'], P=exp.P)\n",
    "plt.figure()\n",
    "plt.imshow(test[:150,:], cmap='binary',aspect='auto')\n",
    "plt.figure()\n",
    "plt.plot(exp.rate_rec['assembly'].smooth_rate(width=20*ms))\n",
    "# plt.plot(exp.rate_rec['other'].smooth_rate(width=10*ms))\n",
    "# # # plt.ylim([0,10])"
   ]
  },
  {
   "cell_type": "code",
   "execution_count": 15,
   "metadata": {},
   "outputs": [],
   "source": [
    "# def _to_weight_matrix(synapse_group, w_key, fill_value=0):\n",
    "#         '''\n",
    "#         '''\n",
    "\n",
    "#         source_size = len(synapse_group.source)\n",
    "#         target_size = len(synapse_group.target)\n",
    "#         W = np.full((source_size, target_size), fill_value)\n",
    "#         # Insert the values from the Synapses object\n",
    "#         W[synapse_group.i[:], synapse_group.j[:]] = getattr(synapse_group,w_key)[:]\n",
    "# #         W[synapses.i[:], synapses.j[:]] = synapses.w_clopath[:]\n",
    "#         return W\n",
    "# np.mean(exp.rec['synapses']['EE'][exp.synapses['EE'][0:50,0:50]].w_clopath, axis=0)"
   ]
  },
  {
   "cell_type": "code",
   "execution_count": 16,
   "metadata": {},
   "outputs": [
    {
     "data": {
      "text/plain": [
       "<matplotlib.image.AxesImage at 0x1e6b0696d88>"
      ]
     },
     "execution_count": 16,
     "metadata": {},
     "output_type": "execute_result"
    },
    {
     "data": {
      "image/png": "[encoded data removed]",
      "text/plain": [
       "<Figure size 432x288 with 1 Axes>"
      ]
     },
     "metadata": {
      "needs_background": "light"
     },
     "output_type": "display_data"
    }
   ],
   "source": [
    "exp.W_assemblies\n",
    "np.sum(np.abs(exp.W_trained['EE']['W'][:50,:50]-exp.W_trained['EE']['W_old'][:50,:50]))\n",
    "plt.imshow(np.abs(exp.W_trained['EE']['W'][:50,:50]-exp.W_trained['EE']['W_old'][:50,:50]))\n",
    "# plt.imshow(np.abs(exp.W_trained['EE']['W'][-50:,-50:]-exp.W_trained['EE']['W_old'][-50:,-50:]))"
   ]
  },
  {
   "cell_type": "code",
   "execution_count": 17,
   "metadata": {},
   "outputs": [
    {
     "data": {
      "text/plain": [
       "3.273884081896233"
      ]
     },
     "execution_count": 17,
     "metadata": {},
     "output_type": "execute_result"
    }
   ],
   "source": [
    "# W = exp._to_weight_matrix(synapse_group=exp.synapses['EE'],w_key='w_clopath')\n",
    "# dir(exp.synapses['EE'].variables)\n",
    "np.mean(exp.W_trained['EE']['W'][:50,-50:])\n",
    "np.mean(exp.W_trained['EE']['W'][:50,:50])\n",
    "np.max(exp.W_trained['EE']['W'][:50,:50])"
   ]
  },
  {
   "cell_type": "code",
   "execution_count": 18,
   "metadata": {},
   "outputs": [],
   "source": [
    "# plt.imshow(W)\n",
    "# w = W[:50,:50]\n",
    "# # w = W[-50:,-50:]\n",
    "# # w = W[0:50,50:100]\n",
    "# # w = W[-400:-300,-400:-300]\n",
    "# plt.figure()\n",
    "# w[np.nonzero(w)]"
   ]
  },
  {
   "cell_type": "code",
   "execution_count": 19,
   "metadata": {},
   "outputs": [
    {
     "data": {
      "text/plain": [
       "<synapses_EE.N_syn_total_recurrent: array([0., 0., 0., ..., 0., 0., 0.])>"
      ]
     },
     "execution_count": 19,
     "metadata": {},
     "output_type": "execute_result"
    }
   ],
   "source": [
    "exp.synapses['EE'].N_syn_total_recurrent"
   ]
  },
  {
   "cell_type": "code",
   "execution_count": 20,
   "metadata": {},
   "outputs": [
    {
     "data": {
      "text/plain": [
       "(500, 2200)"
      ]
     },
     "execution_count": 20,
     "metadata": {},
     "output_type": "execute_result"
    }
   ],
   "source": [
    "# (15000500./500.)\n",
    "test.shape"
   ]
  },
  {
   "cell_type": "code",
   "execution_count": 21,
   "metadata": {},
   "outputs": [],
   "source": [
    "# plt.plot(exp.rec['neurons']['E'].A_LTD_homeo.T)"
   ]
  },
  {
   "cell_type": "code",
   "execution_count": 22,
   "metadata": {},
   "outputs": [
    {
     "data": {
      "text/plain": [
       "array([], dtype=int32)"
      ]
     },
     "execution_count": 22,
     "metadata": {},
     "output_type": "execute_result"
    }
   ],
   "source": [
    "test = exp.spike_rec['neurons']['E'].spike_trains()\n",
    "np.array(test[485]/(defaultclock.dt), dtype=int)"
   ]
  },
  {
   "cell_type": "code",
   "execution_count": null,
   "metadata": {},
   "outputs": [],
   "source": []
  },
  {
   "cell_type": "code",
   "execution_count": 23,
   "metadata": {},
   "outputs": [],
   "source": [
    "# exp.spike_rec.t"
   ]
  },
  {
   "cell_type": "code",
   "execution_count": 24,
   "metadata": {
    "scrolled": true
   },
   "outputs": [],
   "source": [
    "test= exp._spike_monitor_to_binary_array(spike_monitor=exp.spike_rec['neurons']['E'], P=exp.P)\n",
    "test = np.sum(test.reshape(test.shape[0],-1, 10), axis=2)"
   ]
  },
  {
   "cell_type": "code",
   "execution_count": 25,
   "metadata": {},
   "outputs": [
    {
     "data": {
      "text/plain": [
       "<synapses_EE.normalize: 1>"
      ]
     },
     "execution_count": 25,
     "metadata": {},
     "output_type": "execute_result"
    }
   ],
   "source": [
    "exp.synapses['EE'].normalize"
   ]
  },
  {
   "cell_type": "code",
   "execution_count": 26,
   "metadata": {
    "scrolled": true
   },
   "outputs": [
    {
     "data": {
      "text/plain": [
       "<matplotlib.image.AxesImage at 0x1e6b07acd48>"
      ]
     },
     "execution_count": 26,
     "metadata": {},
     "output_type": "execute_result"
    },
    {
     "data": {
      "image/png": "[encoded data removed]",
      "text/plain": [
       "<Figure size 432x288 with 1 Axes>"
      ]
     },
     "metadata": {
      "needs_background": "light"
     },
     "output_type": "display_data"
    }
   ],
   "source": [
    "plt.imshow(test[50:150], cmap='binary',aspect='auto')\n",
    "\n",
    "# plt.imshow(test,aspect='auto')"
   ]
  },
  {
   "cell_type": "code",
   "execution_count": null,
   "metadata": {},
   "outputs": [],
   "source": []
  },
  {
   "cell_type": "code",
   "execution_count": 27,
   "metadata": {},
   "outputs": [
    {
     "data": {
      "text/plain": [
       "321.0"
      ]
     },
     "execution_count": 27,
     "metadata": {},
     "output_type": "execute_result"
    }
   ],
   "source": [
    "np.sum(test[:30,15:])"
   ]
  },
  {
   "cell_type": "code",
   "execution_count": 28,
   "metadata": {},
   "outputs": [],
   "source": [
    "temp = np.array([[0,1,2,3],[4,5,6,7],[8,9,10,11]])"
   ]
  },
  {
   "cell_type": "code",
   "execution_count": 29,
   "metadata": {},
   "outputs": [
    {
     "data": {
      "text/plain": [
       "array([[[ 0,  1],\n",
       "        [ 2,  3]],\n",
       "\n",
       "       [[ 4,  5],\n",
       "        [ 6,  7]],\n",
       "\n",
       "       [[ 8,  9],\n",
       "        [10, 11]]])"
      ]
     },
     "execution_count": 29,
     "metadata": {},
     "output_type": "execute_result"
    }
   ],
   "source": [
    "temp.reshape(3,-1, 2)"
   ]
  },
  {
   "cell_type": "code",
   "execution_count": 30,
   "metadata": {},
   "outputs": [
    {
     "data": {
      "text/plain": [
       "<poissongroup.rates: [Subexpression refers to external parameters. Use \"group.rates[:]\"]>"
      ]
     },
     "execution_count": 30,
     "metadata": {},
     "output_type": "execute_result"
    }
   ],
   "source": [
    "exp.inputs['E'].rates"
   ]
  },
  {
   "cell_type": "code",
   "execution_count": 31,
   "metadata": {
    "scrolled": true
   },
   "outputs": [
    {
     "data": {
      "text/plain": [
       "[<matplotlib.lines.Line2D at 0x1e6afccf5c8>,\n",
       " <matplotlib.lines.Line2D at 0x1e6b01b2948>,\n",
       " <matplotlib.lines.Line2D at 0x1e6b01b2b08>,\n",
       " <matplotlib.lines.Line2D at 0x1e6b01b2cc8>,\n",
       " <matplotlib.lines.Line2D at 0x1e6b01b2f08>,\n",
       " <matplotlib.lines.Line2D at 0x1e6b01db1c8>,\n",
       " <matplotlib.lines.Line2D at 0x1e6b01db3c8>,\n",
       " <matplotlib.lines.Line2D at 0x1e6b01db608>,\n",
       " <matplotlib.lines.Line2D at 0x1e6b01b2e88>,\n",
       " <matplotlib.lines.Line2D at 0x1e6b01db148>,\n",
       " <matplotlib.lines.Line2D at 0x1e6afd0e4c8>]"
      ]
     },
     "execution_count": 31,
     "metadata": {},
     "output_type": "execute_result"
    },
    {
     "data": {
      "image/png": "[encoded data removed]",
      "text/plain": [
       "<Figure size 432x288 with 1 Axes>"
      ]
     },
     "metadata": {
      "needs_background": "light"
     },
     "output_type": "display_data"
    }
   ],
   "source": [
    "plt.plot(exp.timed_rates.values.T)"
   ]
  },
  {
   "cell_type": "code",
   "execution_count": 32,
   "metadata": {},
   "outputs": [
    {
     "data": {
      "text/plain": [
       "[<matplotlib.lines.Line2D at 0x1e6b05fab08>]"
      ]
     },
     "execution_count": 32,
     "metadata": {},
     "output_type": "execute_result"
    },
    {
     "data": {
      "image/png": "[encoded data removed]",
      "text/plain": [
       "<Figure size 432x288 with 1 Axes>"
      ]
     },
     "metadata": {
      "needs_background": "light"
     },
     "output_type": "display_data"
    }
   ],
   "source": [
    "plt.plot(exp.rate_rec['assembly'].rate/Hz)"
   ]
  },
  {
   "cell_type": "code",
   "execution_count": 33,
   "metadata": {},
   "outputs": [
    {
     "data": {
      "text/plain": [
       "(0.0, 20.0)"
      ]
     },
     "execution_count": 33,
     "metadata": {},
     "output_type": "execute_result"
    },
    {
     "data": {
      "image/png": "[encoded data removed]",
      "text/plain": [
       "<Figure size 432x288 with 1 Axes>"
      ]
     },
     "metadata": {
      "needs_background": "light"
     },
     "output_type": "display_data"
    }
   ],
   "source": [
    "plt.plot(exp.rate_rec['assembly'].smooth_rate(width=10*ms))\n",
    "plt.ylim([0,20])"
   ]
  },
  {
   "cell_type": "code",
   "execution_count": 34,
   "metadata": {},
   "outputs": [],
   "source": [
    "# exp.rec['synapses']['EE'].normalize.shape\n",
    "# plt.plot(exp.rec['synapses']['EE'].normalize.T,'.')\n",
    "# plt.xlim([0,10])\n",
    "# plt.ylim([0,.001])\n",
    "# plt.plot(np.array(exp.rec['synapses']['EE'].normalize<defaultclock.dt, dtype=int).T,'.')"
   ]
  },
  {
   "cell_type": "code",
   "execution_count": null,
   "metadata": {},
   "outputs": [],
   "source": []
  }
 ],
 "metadata": {
  "kernelspec": {
   "display_name": "Python 3",
   "language": "python",
   "name": "python3"
  },
  "language_info": {
   "codemirror_mode": {
    "name": "ipython",
    "version": 3
   },
   "file_extension": ".py",
   "mimetype": "text/x-python",
   "name": "python",
   "nbconvert_exporter": "python",
   "pygments_lexer": "ipython3",
   "version": "3.7.6"
  }
 },
 "nbformat": 4,
 "nbformat_minor": 2
}
