{
 "cells": [
  {
   "cell_type": "code",
   "execution_count": 1,
   "metadata": {},
   "outputs": [
    {
     "data": {
      "text/plain": [
       "<module 'networks_3' from 'C:\\\\Users\\\\Greg Kronberg\\\\Google Drive\\\\Work\\\\GitHub\\\\DCS-LTP-IntegrateAndFire-Clopath-Network\\\\networks_3.py'>"
      ]
     },
     "execution_count": 1,
     "metadata": {},
     "output_type": "execute_result"
    }
   ],
   "source": [
    "import networks_3\n",
    "import equations\n",
    "import matplotlib.pyplot as plt\n",
    "from brian2 import *\n",
    "import imp\n",
    "imp.reload(equations)\n",
    "imp.reload(networks_3)"
   ]
  },
  {
   "cell_type": "code",
   "execution_count": 2,
   "metadata": {},
   "outputs": [],
   "source": [
    "exp = networks_3.exp_litwinkumar_test_2()"
   ]
  },
  {
   "cell_type": "code",
   "execution_count": 3,
   "metadata": {},
   "outputs": [],
   "source": [
    "# prefs.codegen.target = 'numpy'"
   ]
  },
  {
   "cell_type": "code",
   "execution_count": 4,
   "metadata": {
    "scrolled": false
   },
   "outputs": [
    {
     "name": "stdout",
     "output_type": "stream",
     "text": [
      "[[0.         0.         0.         ... 0.         0.         0.        ]\n",
      " [0.         0.         0.         ... 0.         0.         0.        ]\n",
      " [0.         0.         0.         ... 0.         0.         0.        ]\n",
      " ...\n",
      " [0.         0.         0.         ... 0.         0.         0.        ]\n",
      " [0.         0.         0.         ... 1.59570606 0.         0.        ]\n",
      " [0.         0.         0.         ... 1.77535949 0.         0.        ]]\n",
      "[[ 0.          0.          0.          0.          0.          0.\n",
      "   0.          0.          0.          0.        ]\n",
      " [ 0.         49.82914043  0.          0.          0.          0.\n",
      "   0.          0.         57.35764419  0.        ]\n",
      " [ 0.          0.          0.          0.          0.         55.0476596\n",
      "   0.          0.          0.         53.93651431]\n",
      " [50.7596679  49.         60.69743856 69.39881662  0.          0.\n",
      "  54.75731848  0.          0.         53.61074625]\n",
      " [51.55230654 49.38738229  0.          0.          0.          0.\n",
      "   0.         54.66631207  0.          0.        ]\n",
      " [ 0.          0.         50.87039914  0.          0.          0.\n",
      "   0.          0.          0.          0.        ]\n",
      " [ 0.          0.          0.          0.         58.02520852 50.58719204\n",
      "   0.          0.         51.18769052  0.        ]\n",
      " [ 0.          0.          0.          0.          0.         49.2965918\n",
      "   0.          0.          0.          0.        ]\n",
      " [ 0.         49.67557034  0.          0.          0.          0.\n",
      "   0.          0.          0.          0.        ]\n",
      " [ 0.          0.          0.          0.         60.36715111 49.\n",
      "   0.          0.          0.          0.        ]]\n"
     ]
    },
    {
     "name": "stderr",
     "output_type": "stream",
     "text": [
      "WARNING    \"w_ampa\" is an internal variable of group \"synapses_EE\", but also exists in the group-specific namespace with the value 1.8. The internal variable will be used. [brian2.groups.group.Group.resolve.resolution_conflict]\n",
      "WARNING    \"w_ampa\" is an internal variable of group \"synapses_EI\", but also exists in the group-specific namespace with the value 1.8. The internal variable will be used. [brian2.groups.group.Group.resolve.resolution_conflict]\n",
      "WARNING    \"w_ampa\" is an internal variable of group \"synapses_FE_train\", but also exists in the group-specific namespace with the value 1.8. The internal variable will be used. [brian2.groups.group.Group.resolve.resolution_conflict]\n",
      "WARNING    \"w_ampa\" is an internal variable of group \"synapses_FI_train\", but also exists in the group-specific namespace with the value 1.8. The internal variable will be used. [brian2.groups.group.Group.resolve.resolution_conflict]\n",
      "WARNING    \"w_gaba\" is an internal variable of group \"synapses_IE\", but also exists in the group-specific namespace with the value 20.0. The internal variable will be used. [brian2.groups.group.Group.resolve.resolution_conflict]\n",
      "WARNING    \"w_gaba\" is an internal variable of group \"synapses_II\", but also exists in the group-specific namespace with the value 20.0. The internal variable will be used. [brian2.groups.group.Group.resolve.resolution_conflict]\n"
     ]
    },
    {
     "name": "stdout",
     "output_type": "stream",
     "text": [
      "assemblies dict_keys(['1_1', '1_0', '1_2', '1_3', '1_4', '0_1', '0_0', '0_2', '0_3', '0_4', '2_1', '2_0', '2_2', '2_3', '2_4', '3_1', '3_0', '3_2', '3_3', '3_4', '4_1', '4_0', '4_2', '4_3', '4_4'])\n",
      "assemblies dict_keys(['1_1', '1_0', '1_2', '1_3', '1_4', '0_1', '0_0', '0_2', '0_3', '0_4', '2_1', '2_0', '2_2', '2_3', '2_4', '3_1', '3_0', '3_2', '3_3', '3_4', '4_1', '4_0', '4_2', '4_3', '4_4'])\n",
      "[[0.         0.         0.         ... 0.         0.         0.        ]\n",
      " [0.         0.         0.         ... 0.         0.         0.        ]\n",
      " [0.         0.         0.         ... 0.         0.         0.        ]\n",
      " ...\n",
      " [0.         0.         0.         ... 0.         0.         0.        ]\n",
      " [0.         0.         0.         ... 1.79996733 0.         0.        ]\n",
      " [0.         0.         0.         ... 1.79649535 0.         0.        ]]\n",
      "saving data\n",
      "saving data\n",
      "run duration: 780.5915746688843\n"
     ]
    }
   ],
   "source": [
    "exp.run()"
   ]
  },
  {
   "cell_type": "code",
   "execution_count": 5,
   "metadata": {},
   "outputs": [],
   "source": [
    "# exp.net.run(50*ms)"
   ]
  },
  {
   "cell_type": "code",
   "execution_count": 6,
   "metadata": {
    "scrolled": true
   },
   "outputs": [
    {
     "data": {
      "text/plain": [
       "<synapses_EE.j: array([ 12,  16,  17, ..., 481, 490, 491])>"
      ]
     },
     "execution_count": 6,
     "metadata": {},
     "output_type": "execute_result"
    }
   ],
   "source": [
    "# plt.plot(exp.rec['neurons']['E'].u_test.T)\n",
    "# # plt.ylim([-.07,.05])\n",
    "# # plt.xlim([60,100])\n",
    "\n",
    "# plt.figure()\n",
    "# plt.plot(exp.rec['neurons']['E'].I_exp.T)\n",
    "# # plt.ylim([-.00000001,.0000001])\n",
    "# # plt.xlim([60,100])\n",
    "exp.synapses['EE'].j"
   ]
  },
  {
   "cell_type": "code",
   "execution_count": 7,
   "metadata": {
    "scrolled": true
   },
   "outputs": [],
   "source": [
    "# plt.plot(exp.rec['neurons']['E'].u.T)\n",
    "# plt.ylim([-7,.05])"
   ]
  },
  {
   "cell_type": "code",
   "execution_count": 8,
   "metadata": {
    "scrolled": true
   },
   "outputs": [],
   "source": [
    "# plt.plot(exp.rec['neurons']['I'].u_test.T)"
   ]
  },
  {
   "cell_type": "code",
   "execution_count": 9,
   "metadata": {
    "scrolled": true
   },
   "outputs": [],
   "source": [
    "# plt.plot(exp.rec['neurons']['E'].w_clopath_total_recurrent.T)"
   ]
  },
  {
   "cell_type": "code",
   "execution_count": 10,
   "metadata": {},
   "outputs": [],
   "source": [
    "# plt.plot(exp.rec['synapses']['EE'][exp.synapses['EE'][50:100,50:100]].w_clopath.T)\n",
    "# plt.ylim([2.5,3.5])\n",
    "# plt.xlim([80,100])"
   ]
  },
  {
   "cell_type": "code",
   "execution_count": 11,
   "metadata": {},
   "outputs": [],
   "source": [
    "# plt.plot(exp.rec['synapses']['EE'][exp.synapses['EE'][100:150,100:150]].w_clopath.T)"
   ]
  },
  {
   "cell_type": "code",
   "execution_count": 12,
   "metadata": {},
   "outputs": [],
   "source": [
    "# plt.plot(exp.rec['synapses']['IE'].w_vogels.T)"
   ]
  },
  {
   "cell_type": "code",
   "execution_count": 13,
   "metadata": {
    "scrolled": true
   },
   "outputs": [],
   "source": [
    "# plt.figure()\n",
    "# plt.plot(np.mean(exp.rec['synapses']['IE'][exp.synapses['IE'][50:100,50:100]].w_vogels, axis=0),'k')\n",
    "# plt.plot(np.mean(exp.rec['synapses']['IE'][exp.synapses['IE'][50:100,0:50]].w_vogels, axis=0),'r')\n",
    "# plt.plot(np.mean(exp.rec['synapses']['IE'][exp.synapses['IE'][50:100,100:150]].w_vogels, axis=0),'b')\n",
    "# plt.plot(np.mean(exp.rec['synapses']['IE'][exp.synapses['IE'][100:150,50:100]].w_vogels, axis=0),'g')\n",
    "# exp.rec['synapses']['IE'][exp.synapses['IE'][100:102,50:100]].w_vogels.shape\n",
    "# exp.rec['synapses']['IE'].w_vogels.shape\n"
   ]
  },
  {
   "cell_type": "code",
   "execution_count": 14,
   "metadata": {
    "scrolled": true
   },
   "outputs": [
    {
     "data": {
      "text/plain": [
       "[<matplotlib.lines.Line2D at 0x1f9072a63c8>]"
      ]
     },
     "execution_count": 14,
     "metadata": {},
     "output_type": "execute_result"
    },
    {
     "data": {
      "image/png": "[encoded data removed]",
      "text/plain": [
       "<Figure size 432x288 with 1 Axes>"
      ]
     },
     "metadata": {
      "needs_background": "light"
     },
     "output_type": "display_data"
    },
    {
     "data": {
      "image/png": "[encoded data removed]",
      "text/plain": [
       "<Figure size 432x288 with 1 Axes>"
      ]
     },
     "metadata": {
      "needs_background": "light"
     },
     "output_type": "display_data"
    }
   ],
   "source": [
    "# plt.plot(np.mean(exp.rec['synapses']['EE'][exp.synapses['EE'][0:50,16:17]].w_clopath, axis=0),'k')\n",
    "# plt.plot(np.mean(exp.rec['synapses']['EE'][exp.synapses['EE'][0:100,16:17]].w_clopath, axis=0),'r')\n",
    "# plt.plot(np.mean(exp.rec['synapses']['EE'][exp.synapses['EE'][50:100,16:17]].w_clopath, axis=0),'b')\n",
    "# plt.figure()\n",
    "# plt.plot(np.mean(exp.rec['synapses']['EE'][exp.synapses['EE'][0:50,0:50]].w_clopath, axis=0),'k')\n",
    "# plt.plot(np.mean(exp.rec['synapses']['EE'][exp.synapses['EE'][50:100,50:100]].w_clopath, axis=0),'r')\n",
    "# plt.plot(np.mean(exp.rec['synapses']['EE'][exp.synapses['EE'][0:50,50:100]].w_clopath, axis=0),'b')\n",
    "# plt.plot(np.mean(exp.rec['synapses']['EE'][exp.synapses['EE'][50:100,100:150]].w_clopath, axis=0),'b')\n",
    "# plt.plot(np.mean(exp.rec['synapses']['EE'][exp.synapses['EE'][50:100,0:50]].w_clopath, axis=0),'g')\n",
    "# plt.ylim([2.75,3])\n",
    "test= exp._spike_monitor_to_binary_array(spike_monitor=exp.spike_rec['neurons']['E'], P=exp.P)\n",
    "# print(test.shape)\n",
    "test = np.sum(test[:,:].reshape(test[:,:].shape[0],-1, 10), axis=2)\n",
    "# # test= exp._spike_monitor_to_binary_array(spike_monitor=exp.spike_rec['neurons']['E'], P=exp.P)\n",
    "plt.figure()\n",
    "plt.imshow(test[:,:], cmap='binary',aspect='auto')\n",
    "plt.figure()\n",
    "plt.plot(exp.rate_rec['assembly'].smooth_rate(width=20*ms))\n",
    "# plt.plot(exp.rate_rec['other'].smooth_rate(width=10*ms))\n",
    "# # # plt.ylim([0,10])"
   ]
  },
  {
   "cell_type": "code",
   "execution_count": 15,
   "metadata": {},
   "outputs": [],
   "source": [
    "# def _to_weight_matrix(synapse_group, w_key, fill_value=0):\n",
    "#         '''\n",
    "#         '''\n",
    "\n",
    "#         source_size = len(synapse_group.source)\n",
    "#         target_size = len(synapse_group.target)\n",
    "#         W = np.full((source_size, target_size), fill_value)\n",
    "#         # Insert the values from the Synapses object\n",
    "#         W[synapse_group.i[:], synapse_group.j[:]] = getattr(synapse_group,w_key)[:]\n",
    "# #         W[synapses.i[:], synapses.j[:]] = synapses.w_clopath[:]\n",
    "#         return W\n",
    "# np.mean(exp.rec['synapses']['EE'][exp.synapses['EE'][0:50,0:50]].w_clopath, axis=0)"
   ]
  },
  {
   "cell_type": "code",
   "execution_count": 16,
   "metadata": {},
   "outputs": [
    {
     "data": {
      "text/plain": [
       "{'1_1': {'mean': array([3.32316398, 4.10500467, 4.31268816, 4.49207226, 4.66679218,\n",
       "         4.82735638, 4.92093846, 5.01288833, 5.06442886, 5.15744234,\n",
       "         5.34741455, 5.56803135, 5.58645825, 5.61661013, 5.57829015,\n",
       "         5.59638375, 5.80221063, 6.08676213, 6.07898638, 6.09138487,\n",
       "         6.29138152, 6.49553979, 6.44058919, 6.50428383, 6.43290461,\n",
       "         6.46642174, 6.58130343, 6.63198277, 6.54736993, 6.53759127,\n",
       "         6.64703047, 6.79425658, 6.76500017, 6.80899595, 6.99853987,\n",
       "         6.81225458, 6.61065091, 6.55756745, 6.49641807, 6.48884798]),\n",
       "  'std': array([0.99333236, 2.45484189, 2.98426738, 3.27871733, 3.54177777,\n",
       "         3.74829428, 3.82703948, 3.96700857, 4.00012955, 4.0979396 ,\n",
       "         4.10459537, 4.24033227, 4.24413512, 4.32156589, 4.21885313,\n",
       "         4.19569118, 4.44601417, 4.64650904, 4.7389493 , 4.82960072,\n",
       "         4.76867487, 4.92586733, 4.92108581, 4.9069557 , 4.86043879,\n",
       "         4.85416847, 4.98290001, 5.05814465, 4.94444639, 4.91723475,\n",
       "         4.91146443, 4.96439637, 4.96456228, 5.01011885, 4.70468606,\n",
       "         4.61407033, 4.38196957, 4.3521799 , 4.33079062, 4.33576304])},\n",
       " '1_0': {'mean': array([2.78386748, 2.76123612, 2.71697686, 2.68173772, 2.66682259,\n",
       "         2.6186082 , 2.60020962, 2.54638962, 2.52260698, 2.49845443,\n",
       "         2.4689864 , 2.45602641, 2.49059768, 2.45547354, 2.4421598 ,\n",
       "         2.41031426, 2.38569989, 2.37135246, 2.37946778, 2.38161882,\n",
       "         2.41122212, 2.39527697, 2.40699919, 2.37208176, 2.36609486,\n",
       "         2.34742101, 2.40557725, 2.39646426, 2.38252332, 2.34952993,\n",
       "         2.36821376, 2.34919669, 2.38902186, 2.36928186, 2.36028835,\n",
       "         2.36287828, 2.36941835, 2.35550765, 2.37155731, 2.34212826]),\n",
       "  'std': array([0.12834246, 0.27355218, 0.32058685, 0.33083025, 0.38468722,\n",
       "         0.43098312, 0.49869883, 0.50702398, 0.50466054, 0.5136874 ,\n",
       "         0.510582  , 0.54282964, 0.56696436, 0.59281335, 0.52673712,\n",
       "         0.53372694, 0.53212492, 0.53235248, 0.52536507, 0.5326206 ,\n",
       "         0.54088351, 0.56046035, 0.54558437, 0.55619692, 0.54616166,\n",
       "         0.55007031, 0.564766  , 0.59565568, 0.60299475, 0.60156875,\n",
       "         0.60079196, 0.60549464, 0.58157047, 0.58826106, 0.59920437,\n",
       "         0.61759227, 0.61489168, 0.61447969, 0.60030452, 0.61556376])},\n",
       " '1_2': {'mean': array([2.83844914, 2.85930468, 2.79859776, 2.75277215, 2.72549426,\n",
       "         2.71629718, 2.64507182, 2.57273043, 2.55001714, 2.56356451,\n",
       "         2.59484333, 2.58578629, 2.54218451, 2.48247724, 2.45218258,\n",
       "         2.41944304, 2.45544423, 2.50343795, 2.57699006, 2.54386133,\n",
       "         2.53252528, 2.58054131, 2.56189585, 2.56728729, 2.54290129,\n",
       "         2.54736942, 2.64690874, 2.65123593, 2.62334045, 2.60165462,\n",
       "         2.58445233, 2.60638284, 2.58536296, 2.55938746, 2.68125186,\n",
       "         2.66100346, 2.6511184 , 2.6201591 , 2.61758153, 2.58625184]),\n",
       "  'std': array([0.56448607, 1.21238418, 1.10738847, 1.07776578, 1.1667654 ,\n",
       "         1.33225503, 1.27764346, 1.2111381 , 1.11197575, 1.09961921,\n",
       "         1.33237061, 1.37503161, 1.29980305, 1.28422608, 1.23763558,\n",
       "         1.21225604, 1.36624083, 1.5432159 , 1.65348854, 1.69946486,\n",
       "         1.5593859 , 1.67038086, 1.79352045, 1.71842207, 1.64100447,\n",
       "         1.66048707, 1.87831823, 1.84184936, 1.79736331, 1.7488493 ,\n",
       "         1.779492  , 1.77403434, 1.70818243, 1.66120875, 1.77985195,\n",
       "         1.77323663, 1.75879167, 1.71754771, 1.7881634 , 1.75399104])},\n",
       " '1_3': {'mean': array([2.94042728, 2.97013698, 2.92555839, 2.83983222, 2.87400855,\n",
       "         2.94711707, 2.92280436, 2.78429034, 2.741831  , 2.72508094,\n",
       "         2.7812778 , 2.79599134, 2.75669117, 2.69019942, 2.65122609,\n",
       "         2.56089511, 2.59714265, 2.63074726, 2.73873025, 2.66071033,\n",
       "         2.679505  , 2.68154722, 2.66822567, 2.67660513, 2.68749109,\n",
       "         2.66716817, 2.84539284, 2.78378541, 2.78567708, 2.73950236,\n",
       "         2.76618047, 2.73557142, 2.73830063, 2.7225167 , 2.72641978,\n",
       "         2.70627609, 2.71005941, 2.6628432 , 2.65962738, 2.62475462]),\n",
       "  'std': array([0.53171199, 1.19472464, 1.16451846, 1.15151097, 1.37391897,\n",
       "         1.80581538, 1.71594689, 1.65279512, 1.63758947, 1.60333231,\n",
       "         1.74831591, 1.97900674, 1.87067064, 1.80511909, 1.73455237,\n",
       "         1.65369932, 1.75522895, 1.91701813, 1.98553075, 2.08213745,\n",
       "         1.96088776, 2.01962539, 2.01235554, 2.06833582, 2.03841014,\n",
       "         2.02816547, 2.28556695, 2.26240283, 2.1712701 , 2.12977514,\n",
       "         2.12378587, 2.08447133, 2.04474249, 2.04016677, 2.02520053,\n",
       "         2.02707349, 2.02118592, 2.00693016, 2.00048101, 1.99334698])},\n",
       " '1_4': {'mean': array([3.01013499, 2.85493405, 2.88732738, 2.7021618 , 2.76080019,\n",
       "         2.65807437, 2.76518209, 2.57679696, 2.72451785, 2.59680318,\n",
       "         2.72930851, 2.53941255, 2.62958639, 2.44483317, 2.51084156,\n",
       "         2.38530977, 2.52153556, 2.41272816, 2.61418333, 2.42117245,\n",
       "         2.69547248, 2.4871765 , 2.52535695, 2.3742634 , 2.47676086,\n",
       "         2.3534902 , 2.47716777, 2.35490779, 2.50451244, 2.34354716,\n",
       "         2.43162121, 2.31830795, 2.4511939 , 2.33363322, 2.45162839,\n",
       "         2.31528735, 2.39798977, 2.27789899, 2.33288134, 2.23314178]),\n",
       "  'std': array([0.42714553, 0.65678452, 0.6688518 , 0.68864857, 0.77018353,\n",
       "         0.92894592, 0.88772303, 0.89889245, 0.90273523, 0.95679538,\n",
       "         0.94407286, 0.9933118 , 0.95795793, 0.97361384, 0.92435023,\n",
       "         0.88833277, 0.94137359, 0.95842596, 0.98303747, 1.06805942,\n",
       "         0.97686851, 1.04185454, 0.9754379 , 0.97454126, 0.93056207,\n",
       "         0.92073094, 0.94068218, 0.94789985, 0.88697473, 0.89969611,\n",
       "         0.89287262, 0.89389899, 0.83767339, 0.84241299, 0.84935692,\n",
       "         0.87631773, 0.87300988, 0.84574358, 0.78755767, 0.7916339 ])},\n",
       " '0_1': {'mean': array([2.71450402, 2.62821286, 2.51762121, 2.45810058, 2.40491056,\n",
       "         2.34912041, 2.27286311, 2.19527497, 2.19273313, 2.21622318,\n",
       "         2.11526822, 2.02679727, 2.05798747, 2.05216702, 2.06835925,\n",
       "         2.08515335, 2.04486906, 2.03517719, 1.94771694, 1.87006544,\n",
       "         1.94626199, 1.88600562, 1.89600438, 1.82248276, 1.90792488,\n",
       "         1.93130796, 1.92534514, 2.00330045, 1.96822335, 1.97336523,\n",
       "         1.93008295, 1.94153291, 1.90170051, 1.91795743, 1.89110106,\n",
       "         1.94214474, 1.97630462, 1.95538008, 2.0188895 , 2.00279463]),\n",
       "  'std': array([0.29692431, 0.61970639, 0.69985609, 0.83205188, 0.65327805,\n",
       "         0.70643018, 0.65236467, 0.75323904, 0.61151862, 0.58824267,\n",
       "         0.61996994, 0.65057408, 0.68027829, 0.60460049, 0.57712953,\n",
       "         0.57963799, 0.58687801, 0.60333927, 0.61850526, 0.73214908,\n",
       "         0.52766367, 0.56619867, 0.48331068, 0.61253987, 0.52145435,\n",
       "         0.520804  , 0.44444912, 0.4955923 , 0.44772919, 0.42903682,\n",
       "         0.43455265, 0.44430096, 0.45771678, 0.45371414, 0.92050219,\n",
       "         0.90780461, 0.66618233, 0.65364859, 0.61516403, 0.59295871])},\n",
       " '0_0': {'mean': array([2.81408828, 2.82525738, 2.82110298, 2.84820155, 2.85678143,\n",
       "         2.8617126 , 2.82944888, 2.83022219, 2.82987925, 2.86359866,\n",
       "         2.83659803, 2.82288656, 2.83696108, 2.81706593, 2.79886736,\n",
       "         2.81369174, 2.80184107, 2.80100929, 2.77589778, 2.75305978,\n",
       "         2.76152717, 2.73273033, 2.73142411, 2.73403519, 2.76668266,\n",
       "         2.80089856, 2.83576861, 2.81722765, 2.78896456, 2.7919895 ,\n",
       "         2.76271042, 2.78826668, 2.80270841, 2.83461896, 2.82280749,\n",
       "         2.83221604, 2.82571492, 2.81120962, 2.83160325, 2.8519478 ]),\n",
       "  'std': array([0.12856059, 0.25442315, 0.33271199, 0.44162288, 0.43866644,\n",
       "         0.49550418, 0.54803044, 0.62763085, 0.70275822, 0.7752197 ,\n",
       "         0.77345006, 0.79068412, 0.84435114, 0.84014555, 0.90297785,\n",
       "         0.95470608, 0.9311663 , 0.94527559, 0.95449018, 0.98165084,\n",
       "         0.96377081, 0.98984345, 1.01884872, 1.09221261, 1.17971855,\n",
       "         1.29766262, 1.32292618, 1.36014359, 1.37240249, 1.38989405,\n",
       "         1.45616468, 1.49475992, 1.525277  , 1.58626262, 1.60547192,\n",
       "         1.64457537, 1.64067318, 1.66422982, 1.67003877, 1.70259527])},\n",
       " '0_2': {'mean': array([2.80896739, 2.7929506 , 2.80761588, 2.81575984, 2.74850541,\n",
       "         2.66016849, 2.59879167, 2.51799785, 2.51798887, 2.52246439,\n",
       "         2.46332127, 2.40234644, 2.42353707, 2.37518728, 2.33831826,\n",
       "         2.34952   , 2.34139428, 2.32657497, 2.28647558, 2.2427026 ,\n",
       "         2.2158998 , 2.17003039, 2.13779204, 2.0927281 , 2.11627063,\n",
       "         2.14343078, 2.13373887, 2.13263061, 2.12965157, 2.11870451,\n",
       "         2.09145119, 2.0793134 , 2.06403457, 2.06845767, 2.08537896,\n",
       "         2.07698698, 2.06395953, 2.03532429, 2.06440651, 2.04705833]),\n",
       "  'std': array([0.28011   , 0.54304799, 0.70913675, 0.8701422 , 0.80912215,\n",
       "         0.7870617 , 0.76034658, 0.80270021, 0.69710127, 0.69442338,\n",
       "         0.67084503, 0.66729254, 0.68639984, 0.72370972, 0.75134589,\n",
       "         0.769621  , 0.7260278 , 0.68974705, 0.71832551, 0.80274815,\n",
       "         0.68254238, 0.66269788, 0.62382417, 0.6163099 , 0.58881061,\n",
       "         0.59029822, 0.58302587, 0.5878811 , 0.57212851, 0.57837197,\n",
       "         0.5635553 , 0.53508508, 0.52766645, 0.51550348, 0.5168929 ,\n",
       "         0.53722633, 0.51688449, 0.5299811 , 0.50619549, 0.50560617])},\n",
       " '0_3': {'mean': array([2.8328879 , 2.76784744, 2.75074902, 2.71295505, 2.69305308,\n",
       "         2.61915859, 2.61395044, 2.56925933, 2.55593039, 2.57294452,\n",
       "         2.54011461, 2.46496512, 2.49788233, 2.44602701, 2.43261971,\n",
       "         2.39978082, 2.39597603, 2.35637128, 2.34062426, 2.22382577,\n",
       "         2.26672967, 2.23864789, 2.25593113, 2.2307293 , 2.28133431,\n",
       "         2.28824722, 2.26933106, 2.22535498, 2.21302744, 2.21407746,\n",
       "         2.20073559, 2.16567611, 2.16975934, 2.16979799, 2.18827361,\n",
       "         2.18777826, 2.17702787, 2.13280495, 2.17355068, 2.14678431]),\n",
       "  'std': array([0.25919806, 0.48546803, 0.57166041, 0.69292362, 0.74322444,\n",
       "         0.74364459, 0.80594386, 0.93412236, 0.82311534, 0.80081229,\n",
       "         0.7748217 , 0.75201836, 0.70491564, 0.72010717, 0.76711439,\n",
       "         0.86485645, 0.7617576 , 0.71597945, 0.76046378, 0.86295156,\n",
       "         0.66184858, 0.63654612, 0.5701246 , 0.57256106, 0.6142427 ,\n",
       "         0.67432246, 0.63755353, 0.64246237, 0.63430271, 0.62424498,\n",
       "         0.60735863, 0.5948167 , 0.58502514, 0.58050072, 0.57439184,\n",
       "         0.58665355, 0.56857552, 0.56592547, 0.53605903, 0.54125067])},\n",
       " '0_4': {'mean': array([3.05475151, 2.85401669, 2.98850451, 2.79786515, 2.78364572,\n",
       "         2.63867457, 2.74499766, 2.49133734, 2.71838513, 2.54119462,\n",
       "         2.62646888, 2.383293  , 2.58644272, 2.36968584, 2.43663842,\n",
       "         2.30550379, 2.4658652 , 2.30660795, 2.43091706, 2.26304094,\n",
       "         2.56730627, 2.25703168, 2.34890783, 2.19794309, 2.3631115 ,\n",
       "         2.21965184, 2.30302328, 2.20592023, 2.40608321, 2.20898129,\n",
       "         2.24642139, 2.10991971, 2.29315654, 2.14873196, 2.27663752,\n",
       "         2.13736337, 2.22351374, 2.07347165, 2.1691561 , 2.08252214]),\n",
       "  'std': array([0.43997111, 0.60166965, 0.75976655, 0.84194118, 0.78442762,\n",
       "         0.77359564, 0.72074725, 0.75582252, 0.71847517, 0.79488874,\n",
       "         0.64973238, 0.67623548, 0.63250968, 0.69534363, 0.68111644,\n",
       "         0.74568327, 0.60736543, 0.65809004, 0.71279315, 0.76447342,\n",
       "         0.67837897, 0.63654215, 0.52011244, 0.54295271, 0.63790164,\n",
       "         0.64122764, 0.55233845, 0.55937478, 0.56064961, 0.58125886,\n",
       "         0.49796663, 0.52303565, 0.46251275, 0.48291816, 0.46081517,\n",
       "         0.52629155, 0.47500552, 0.49669334, 0.45654188, 0.49062837])},\n",
       " '2_1': {'mean': array([2.78535513, 2.7145262 , 2.80716735, 2.72673574, 2.77872976,\n",
       "         2.76716763, 2.75536769, 2.67022867, 2.66846737, 2.63497955,\n",
       "         2.70764962, 2.66660904, 2.64650673, 2.56077572, 2.55366873,\n",
       "         2.51646418, 2.52403012, 2.47844839, 2.45904462, 2.43623283,\n",
       "         2.5070084 , 2.46207701, 2.49437901, 2.43498498, 2.46290463,\n",
       "         2.42228205, 2.45097466, 2.35389174, 2.38543134, 2.39819797,\n",
       "         2.40692372, 2.38028665, 2.47687905, 2.42335208, 2.44411986,\n",
       "         2.3310789 , 2.3038551 , 2.3235137 , 2.36642258, 2.34421427]),\n",
       "  'std': array([0.27822974, 0.47743509, 0.62252658, 0.71389744, 0.79439423,\n",
       "         1.04015236, 0.99282868, 1.01675464, 1.01820948, 1.02514964,\n",
       "         1.15357969, 1.27025673, 1.19989362, 1.12962402, 1.11461755,\n",
       "         1.09679667, 1.03214047, 0.97908099, 1.00693061, 1.04375825,\n",
       "         1.0503073 , 1.14787052, 1.0564714 , 1.09242465, 1.12685452,\n",
       "         1.15401174, 1.17648467, 1.27790705, 1.2239677 , 1.23632122,\n",
       "         1.22707693, 1.24241999, 1.33471405, 1.45060966, 1.42123859,\n",
       "         1.3433333 , 1.2730323 , 1.29359902, 1.24715598, 1.23398372])},\n",
       " '2_0': {'mean': array([2.8244117 , 2.80495901, 2.81218858, 2.77782214, 2.78896837,\n",
       "         2.77559209, 2.80353233, 2.74433374, 2.73388134, 2.70429758,\n",
       "         2.72477887, 2.72808025, 2.75249148, 2.69149002, 2.67752211,\n",
       "         2.6378086 , 2.63966311, 2.62949526, 2.64556814, 2.62063299,\n",
       "         2.65835805, 2.6476438 , 2.64693723, 2.63275272, 2.68250168,\n",
       "         2.65195553, 2.67747722, 2.6139414 , 2.61872448, 2.61472261,\n",
       "         2.62589454, 2.60125778, 2.61943321, 2.60280502, 2.60693867,\n",
       "         2.57736498, 2.57956263, 2.59224442, 2.624554  , 2.61077674]),\n",
       "  'std': array([0.16970689, 0.258781  , 0.35439448, 0.38657473, 0.45318719,\n",
       "         0.53504968, 0.55728394, 0.57096122, 0.61349421, 0.64190319,\n",
       "         0.70312811, 0.7346824 , 0.72758554, 0.71593226, 0.75146571,\n",
       "         0.74235931, 0.77136794, 0.75705967, 0.77086371, 0.77609445,\n",
       "         0.78074373, 0.82763163, 0.87065686, 0.883298  , 0.89413633,\n",
       "         0.89587792, 0.89807863, 0.90184508, 0.92430815, 0.96096281,\n",
       "         0.97155087, 0.98257039, 1.00476186, 1.01649787, 1.04012386,\n",
       "         1.06626757, 1.06564431, 1.0870009 , 1.07960654, 1.06973731])},\n",
       " '2_2': {'mean': array([2.92953083, 3.04058279, 3.12921764, 3.21260042, 3.26881138,\n",
       "         3.30698099, 3.38833344, 3.44212647, 3.48146232, 3.54014964,\n",
       "         3.66014247, 3.748758  , 3.73628451, 3.72064033, 3.6687339 ,\n",
       "         3.65800854, 3.69419091, 3.72520299, 3.79539609, 3.87812526,\n",
       "         3.98294181, 4.09961852, 4.24119735, 4.34548909, 4.31339931,\n",
       "         4.30838721, 4.34466434, 4.35108794, 4.3740739 , 4.39720813,\n",
       "         4.4740262 , 4.53072192, 4.55052659, 4.59295648, 4.62458024,\n",
       "         4.63257072, 4.70334331, 4.75950206, 4.74656422, 4.74632124]),\n",
       "  'std': array([0.38810503, 0.75289951, 0.86806776, 1.09211494, 1.32665431,\n",
       "         1.52555192, 1.57148213, 1.71359432, 1.86300373, 2.01951126,\n",
       "         2.17824185, 2.35502789, 2.3832106 , 2.43743012, 2.4232508 ,\n",
       "         2.42535297, 2.45488844, 2.505493  , 2.57077713, 2.77885186,\n",
       "         2.87394851, 3.02532592, 3.1584444 , 3.28373818, 3.25723851,\n",
       "         3.27306441, 3.35493096, 3.42702111, 3.42050023, 3.4428384 ,\n",
       "         3.52669167, 3.60139565, 3.63270751, 3.70155761, 3.76709142,\n",
       "         3.81272071, 3.83875038, 3.87244351, 3.87272244, 3.89164015])},\n",
       " '2_3': {'mean': array([2.83881734, 2.77648577, 2.8051016 , 2.77707814, 2.77743553,\n",
       "         2.7167887 , 2.73314615, 2.69134403, 2.65479075, 2.62270135,\n",
       "         2.65369777, 2.6488835 , 2.62707752, 2.58089941, 2.54540577,\n",
       "         2.48318885, 2.47882648, 2.46681577, 2.48341496, 2.45207272,\n",
       "         2.46808217, 2.46572364, 2.47344003, 2.46111307, 2.49138014,\n",
       "         2.48512932, 2.48515122, 2.4524632 , 2.47862826, 2.48417963,\n",
       "         2.49647833, 2.47696968, 2.46987798, 2.46625968, 2.46130969,\n",
       "         2.45022987, 2.55554251, 2.566978  , 2.57329662, 2.54881718]),\n",
       "  'std': array([0.17512669, 0.31828662, 0.41939129, 0.54156685, 0.70961238,\n",
       "         0.85185252, 0.97824223, 1.07452907, 0.96679199, 0.94698656,\n",
       "         1.05948516, 1.16981119, 1.09916434, 1.08325825, 1.13662048,\n",
       "         1.1892368 , 1.12324145, 1.07064772, 1.18315196, 1.23740273,\n",
       "         1.13294437, 1.12864108, 1.09921685, 1.098978  , 1.13351097,\n",
       "         1.15515642, 1.16201114, 1.18456384, 1.19824445, 1.2172325 ,\n",
       "         1.24956525, 1.26980344, 1.29645723, 1.32044758, 1.33940334,\n",
       "         1.36684605, 1.41436179, 1.45271742, 1.42909167, 1.40113472])},\n",
       " '2_4': {'mean': array([3.07375935, 2.91784467, 3.0388938 , 2.8671906 , 2.93676537,\n",
       "         2.82851559, 2.99929431, 2.77433919, 2.93738686, 2.73638781,\n",
       "         3.00986761, 2.85597405, 2.91944429, 2.62733512, 2.64936577,\n",
       "         2.49342171, 2.62325671, 2.47167826, 2.61049833, 2.4196444 ,\n",
       "         2.76258467, 2.54398833, 2.6175758 , 2.46960538, 2.62343695,\n",
       "         2.45732074, 2.54404283, 2.40710752, 2.66147215, 2.5524563 ,\n",
       "         2.66457705, 2.49271963, 2.65119096, 2.50900775, 2.6366696 ,\n",
       "         2.49187342, 2.69479635, 2.55602999, 2.62589009, 2.52422352]),\n",
       "  'std': array([0.48550494, 0.66438505, 0.77758396, 0.82157934, 0.87011085,\n",
       "         0.91824439, 0.99647395, 0.97135747, 1.07097572, 1.15509874,\n",
       "         1.3752409 , 1.52999675, 1.33265211, 1.17446231, 1.2124733 ,\n",
       "         1.23359919, 1.10844267, 1.05058425, 1.12218914, 1.15968315,\n",
       "         1.32946739, 1.32187056, 1.34284749, 1.35625334, 1.3248253 ,\n",
       "         1.34495754, 1.35225354, 1.37129692, 1.51923319, 1.59711712,\n",
       "         1.53750886, 1.54835328, 1.60337324, 1.6239708 , 1.66034771,\n",
       "         1.68945505, 1.72276195, 1.7391376 , 1.69288492, 1.65352619])},\n",
       " '3_1': {'mean': array([2.73802345, 2.62404226, 2.60667293, 2.55648622, 2.58937877,\n",
       "         2.56830421, 2.62384935, 2.57667333, 2.50216553, 2.44530672,\n",
       "         2.49617431, 2.46964666, 2.44727762, 2.33003505, 2.36254257,\n",
       "         2.30978298, 2.30341881, 2.26834166, 2.26793996, 2.24500945,\n",
       "         2.28983554, 2.26037359, 2.27484357, 2.20124641, 2.20099434,\n",
       "         2.16060108, 2.1935215 , 2.17495802, 2.19978851, 2.17138776,\n",
       "         2.18941962, 2.16589389, 2.23209459, 2.17933462, 2.18297387,\n",
       "         2.318702  , 2.35681833, 2.31730565, 2.31812527, 2.30511682]),\n",
       "  'std': array([0.27338594, 0.45419021, 0.5806373 , 0.70016615, 0.76234664,\n",
       "         0.91618365, 0.74551016, 0.68134799, 0.65414764, 0.62977563,\n",
       "         0.6805733 , 0.76807775, 0.69492427, 0.65933147, 0.63106305,\n",
       "         0.66136908, 0.65745886, 0.63818346, 0.62866683, 0.61764166,\n",
       "         0.58948178, 0.62291238, 0.61564639, 0.63270256, 0.63161141,\n",
       "         0.64163689, 0.5750984 , 0.60968372, 0.59519461, 0.5780948 ,\n",
       "         0.5717333 , 0.63298047, 0.65324526, 0.6561275 , 0.71160602,\n",
       "         1.32219459, 0.9907236 , 0.92921577, 0.89038962, 0.8618203 ])},\n",
       " '3_0': {'mean': array([2.82319097, 2.80203818, 2.81094899, 2.7911366 , 2.81570535,\n",
       "         2.77929827, 2.81038628, 2.75800391, 2.73395004, 2.71370703,\n",
       "         2.71860915, 2.69405839, 2.70386365, 2.63400145, 2.62545163,\n",
       "         2.61572253, 2.60509871, 2.58424158, 2.58396378, 2.55258433,\n",
       "         2.58613803, 2.56336382, 2.57678203, 2.54674305, 2.56901453,\n",
       "         2.53505639, 2.61162512, 2.61918671, 2.6036378 , 2.56579259,\n",
       "         2.53154915, 2.52721912, 2.53281451, 2.5048826 , 2.50922254,\n",
       "         2.50687539, 2.52494569, 2.52261649, 2.53767902, 2.51332241]),\n",
       "  'std': array([0.16178517, 0.23217011, 0.33283353, 0.37557849, 0.41872569,\n",
       "         0.420241  , 0.49923698, 0.48807571, 0.50587064, 0.48428427,\n",
       "         0.46179996, 0.46129037, 0.47702316, 0.45557511, 0.47322894,\n",
       "         0.50270964, 0.54041494, 0.52173399, 0.53605762, 0.52960573,\n",
       "         0.52548196, 0.57272575, 0.56584465, 0.56524761, 0.58499317,\n",
       "         0.56572181, 0.57624162, 0.63852892, 0.63489428, 0.6285461 ,\n",
       "         0.60435835, 0.67819675, 0.70887201, 0.70867915, 0.69811634,\n",
       "         0.7094061 , 0.72286522, 0.71475472, 0.72952292, 0.7245688 ])},\n",
       " '3_2': {'mean': array([2.86234572, 2.79704832, 2.80174587, 2.72374965, 2.69790319,\n",
       "         2.62194305, 2.63719406, 2.5556365 , 2.55152404, 2.52614812,\n",
       "         2.53626824, 2.48070162, 2.46008117, 2.39511636, 2.40255998,\n",
       "         2.36100253, 2.37675042, 2.32456187, 2.38605111, 2.36719841,\n",
       "         2.36518953, 2.29428438, 2.28020771, 2.22263949, 2.22069115,\n",
       "         2.19729326, 2.23408184, 2.20498594, 2.22663271, 2.20017065,\n",
       "         2.22435554, 2.20308072, 2.17007566, 2.15888577, 2.17040207,\n",
       "         2.15339615, 2.18248173, 2.15587254, 2.17859511, 2.13677717]),\n",
       "  'std': array([0.31266665, 0.32888684, 0.41864981, 0.40437429, 0.51752099,\n",
       "         0.60785826, 0.59304637, 0.602542  , 0.63859154, 0.60657353,\n",
       "         0.60816659, 0.59005323, 0.57503537, 0.55348297, 0.58316562,\n",
       "         0.58769465, 0.56622752, 0.55245417, 0.68474485, 0.77456987,\n",
       "         0.68520998, 0.67618891, 0.68177063, 0.65917916, 0.59172375,\n",
       "         0.58470553, 0.56392965, 0.58086876, 0.56948023, 0.56726102,\n",
       "         0.58231058, 0.58812961, 0.59747098, 0.59433666, 0.57945465,\n",
       "         0.57168386, 0.56135794, 0.55362915, 0.54490477, 0.54216777])},\n",
       " '3_3': {'mean': array([2.95588322, 2.97640464, 3.09192585, 3.1264617 , 3.22689344,\n",
       "         3.16227205, 3.22234705, 3.1321319 , 3.10037069, 3.08452651,\n",
       "         3.20425995, 3.18632266, 3.23585949, 3.23252304, 3.57306131,\n",
       "         3.82749305, 3.92470533, 3.93955506, 4.01797972, 4.01029816,\n",
       "         4.03120953, 4.04285797, 4.041267  , 4.0015359 , 4.09431583,\n",
       "         4.11607497, 4.29154349, 4.33927723, 4.28681648, 4.25080335,\n",
       "         4.29930248, 4.31482104, 4.32942385, 4.31686284, 4.33425565,\n",
       "         4.3411256 , 4.37659616, 4.38048361, 4.42749147, 4.41534812]),\n",
       "  'std': array([0.26538404, 0.46134672, 0.63390013, 0.83209583, 0.95727046,\n",
       "         1.13125206, 1.2364508 , 1.25315477, 1.19125144, 1.22855275,\n",
       "         1.41252985, 1.65371483, 1.7739927 , 1.90410396, 2.3618367 ,\n",
       "         2.92125977, 3.00627691, 3.14228188, 3.20171692, 3.30768613,\n",
       "         3.19197888, 3.19318926, 3.2479871 , 3.23642486, 3.32579903,\n",
       "         3.41094922, 3.64621657, 3.75371357, 3.64499909, 3.63807232,\n",
       "         3.6910517 , 3.76124812, 3.79366758, 3.82039339, 3.8591275 ,\n",
       "         3.91918513, 3.90280329, 3.91911746, 3.93681675, 3.9612414 ])},\n",
       " '3_4': {'mean': array([3.15054823, 2.96356331, 3.2731172 , 3.04147632, 3.01457976,\n",
       "         2.82793663, 3.04468977, 2.80404708, 2.91832865, 2.62560518,\n",
       "         2.83376724, 2.60621676, 2.75587779, 2.45308648, 2.5481653 ,\n",
       "         2.42149445, 2.57055903, 2.47672471, 2.58929818, 2.37988404,\n",
       "         2.64984603, 2.4446968 , 2.46378696, 2.28019443, 2.46374601,\n",
       "         2.30398754, 2.41200594, 2.36470963, 2.5140909 , 2.42491079,\n",
       "         2.53241505, 2.35693417, 2.49464401, 2.32735406, 2.52230414,\n",
       "         2.42850051, 2.58242544, 2.4133894 , 2.48710153, 2.37367764]),\n",
       "  'std': array([0.54886739, 0.54737441, 1.12885029, 1.0841144 , 1.00284531,\n",
       "         0.93634514, 0.95947354, 0.84937357, 0.79823189, 0.7766555 ,\n",
       "         0.81878001, 0.8565706 , 0.91271244, 0.78963945, 0.69270035,\n",
       "         0.77061673, 0.74804712, 0.75276598, 0.70000008, 0.71752386,\n",
       "         0.80783386, 0.90954079, 0.77983136, 0.71565577, 0.68890044,\n",
       "         1.05002353, 1.07033052, 1.13679966, 1.08607952, 1.09549963,\n",
       "         1.03948581, 1.07529703, 1.0041518 , 0.98840185, 1.0134237 ,\n",
       "         1.11328662, 1.1281034 , 1.12994336, 1.07327233, 1.09150946])},\n",
       " '4_1': {'mean': array([2.8226103 , 2.69864481, 2.69440878, 2.63203016, 2.64193891,\n",
       "         2.52544285, 2.52705553, 2.54356463, 2.51491953, 2.48461593,\n",
       "         2.42865361, 2.34321494, 2.35855109, 2.38931252, 2.39289614,\n",
       "         2.34628459, 2.29795954, 2.252258  , 2.25951422, 2.21295904,\n",
       "         2.29386258, 2.27993452, 2.30922801, 2.26672569, 2.28285916,\n",
       "         2.26349684, 2.31583851, 2.28701055, 2.26124394, 2.24072274,\n",
       "         2.25790993, 2.20171137, 2.29709664, 2.2664247 , 2.34902074,\n",
       "         2.20104362, 2.21942622, 2.20637763, 2.20624629, 2.20325895]),\n",
       "  'std': array([0.30723053, 0.38342473, 0.49833988, 0.57264869, 0.59196442,\n",
       "         0.58621859, 0.62745857, 0.62560778, 0.67524984, 0.67804008,\n",
       "         0.61467387, 0.62817052, 0.64234692, 0.88184279, 0.80833148,\n",
       "         0.78343144, 0.70648598, 0.66925568, 0.67230867, 0.67595227,\n",
       "         0.68452139, 0.71680152, 0.72979012, 0.73739889, 0.71361211,\n",
       "         0.80747008, 0.76873654, 0.79311392, 0.75507056, 0.72415974,\n",
       "         0.74207982, 0.71661511, 0.7970832 , 0.79714843, 0.86377546,\n",
       "         0.80021788, 0.77464666, 0.77012591, 0.77627374, 0.78234268])},\n",
       " '4_0': {'mean': array([2.81819992, 2.7839894 , 2.822628  , 2.8784457 , 2.87346874,\n",
       "         2.84081633, 2.83053299, 2.83586039, 2.85311703, 2.91256617,\n",
       "         2.87896052, 2.87211217, 2.95838281, 2.93057125, 2.91284191,\n",
       "         2.8908433 , 2.87058186, 2.85061271, 2.85761197, 2.8437991 ,\n",
       "         2.94262156, 2.9401347 , 2.91606395, 2.90406659, 2.93730612,\n",
       "         2.91700278, 2.97129407, 2.9470425 , 2.98821564, 3.01590532,\n",
       "         2.99419808, 2.96653993, 2.9984205 , 3.0202631 , 3.0035441 ,\n",
       "         2.98421602, 2.99268289, 2.98289348, 2.99049651, 2.98312828]),\n",
       "  'std': array([0.1331078 , 0.16111964, 0.3236201 , 0.62209988, 0.69976631,\n",
       "         0.70955239, 0.74273731, 0.79621849, 1.03517338, 1.41845295,\n",
       "         1.37924206, 1.44493427, 1.89269986, 1.86253532, 1.7857435 ,\n",
       "         1.77479931, 1.68432692, 1.65112684, 1.67608938, 1.68294758,\n",
       "         1.93771206, 1.94031699, 1.85447354, 1.86423488, 2.03445692,\n",
       "         1.99493118, 2.01741502, 2.00166622, 1.98812928, 2.0238611 ,\n",
       "         2.0074991 , 2.03102675, 2.02132756, 2.01406423, 2.02083757,\n",
       "         2.01904599, 2.09144759, 2.1006048 , 2.11506448, 2.10556641])},\n",
       " '4_2': {'mean': array([2.85299692, 2.80151718, 2.78048784, 2.72420661, 2.70529023,\n",
       "         2.6586472 , 2.70698092, 2.6977952 , 2.69084524, 2.65403922,\n",
       "         2.65547517, 2.56983498, 2.58208436, 2.59199715, 2.60315991,\n",
       "         2.58011676, 2.59557911, 2.56451713, 2.58605475, 2.52294412,\n",
       "         2.53268354, 2.51011729, 2.56121544, 2.58211787, 2.56587234,\n",
       "         2.55686051, 2.59324226, 2.56740474, 2.58139488, 2.57378485,\n",
       "         2.58063159, 2.52403224, 2.54213613, 2.54101287, 2.57041793,\n",
       "         2.53046147, 2.54699011, 2.53520169, 2.54667264, 2.52667602]),\n",
       "  'std': array([0.32121546, 0.48170056, 0.51126677, 0.50245454, 0.57223661,\n",
       "         0.58673176, 0.68954507, 0.78757207, 0.82534105, 0.78508744,\n",
       "         0.74841348, 0.71709498, 0.75181546, 0.87818371, 0.89210862,\n",
       "         0.88965774, 0.90962919, 0.86012649, 0.91786825, 0.90968673,\n",
       "         0.9524739 , 0.93514566, 1.02163169, 1.1736239 , 1.11512428,\n",
       "         1.13276098, 1.12968546, 1.13503938, 1.12957249, 1.11348899,\n",
       "         1.11338211, 1.09853231, 1.14089403, 1.11649391, 1.15024058,\n",
       "         1.12164953, 1.1593223 , 1.17335599, 1.15307545, 1.14513564])},\n",
       " '4_3': {'mean': array([2.93453576, 2.85669173, 2.92070804, 2.84337453, 2.9686615 ,\n",
       "         2.82043106, 2.84361795, 2.78405214, 2.7398235 , 2.70733532,\n",
       "         2.73186915, 2.65825107, 2.66649109, 2.63113757, 2.73678847,\n",
       "         2.68097436, 2.63130881, 2.56045633, 2.60666303, 2.49115864,\n",
       "         2.52574177, 2.50081883, 2.50708415, 2.48607415, 2.53663741,\n",
       "         2.47696805, 2.50476917, 2.44366081, 2.47677279, 2.45189005,\n",
       "         2.48395667, 2.41994142, 2.45949827, 2.43141087, 2.4553194 ,\n",
       "         2.43436122, 2.45813842, 2.43818864, 2.50660757, 2.47545394]),\n",
       "  'std': array([0.31569101, 0.39962356, 0.50386272, 0.5458493 , 0.78135068,\n",
       "         0.69101498, 0.76392887, 0.83696557, 0.76808475, 0.72133284,\n",
       "         0.78305199, 0.88417853, 0.83308478, 0.87524578, 1.00876396,\n",
       "         1.03661948, 0.90712987, 0.85110076, 0.89985882, 0.87042145,\n",
       "         0.92185782, 0.97457716, 0.97055744, 0.97034241, 0.94736122,\n",
       "         0.95456268, 0.96696517, 0.97278034, 0.95075225, 0.93902486,\n",
       "         0.96778381, 0.94518675, 0.96267226, 0.95318225, 0.9543335 ,\n",
       "         0.96525077, 0.99339635, 0.99416284, 1.00731876, 1.00260541])},\n",
       " '4_4': {'mean': array([3.34711785, 3.41295435, 3.88547668, 3.94249834, 4.00645795,\n",
       "         3.90558765, 4.20277353, 4.11676678, 4.52204124, 4.47958652,\n",
       "         4.63493248, 4.42769519, 4.66700261, 4.49132351, 4.57744552,\n",
       "         4.462178  , 4.64699793, 4.54661898, 4.78970065, 4.68697283,\n",
       "         5.20116135, 5.14893096, 5.25636854, 5.12968391, 5.3418605 ,\n",
       "         5.18800209, 5.30579741, 5.23338203, 5.59154386, 5.58396146,\n",
       "         5.71707622, 5.61638265, 5.87555093, 5.80514728, 5.9706244 ,\n",
       "         5.86540935, 6.03957378, 5.9769369 , 6.06046145, 5.96723164]),\n",
       "  'std': array([0.96244815, 1.63677216, 2.394215  , 2.67130668, 2.74176459,\n",
       "         2.75106745, 2.98663774, 3.05095687, 3.47214585, 3.65834229,\n",
       "         3.82473454, 3.84627277, 3.94043205, 3.95266025, 3.92598633,\n",
       "         3.9286714 , 4.00065065, 4.02981833, 4.07392147, 4.10044064,\n",
       "         4.21907951, 4.29980398, 4.42829855, 4.43422507, 4.38956896,\n",
       "         4.39233519, 4.43288873, 4.44628991, 4.54521706, 4.54781728,\n",
       "         4.62283837, 4.69511055, 4.69238513, 4.7426043 , 4.78109595,\n",
       "         4.79582632, 4.8490642 , 4.89059638, 4.91323751, 4.91311223])}}"
      ]
     },
     "execution_count": 16,
     "metadata": {},
     "output_type": "execute_result"
    }
   ],
   "source": [
    "exp.W_assemblies\n",
    "# np.sum(np.abs(exp.W_trained['EE']['W'][:50,:50]-exp.W_trained['EE']['W_old'][:50,:50]))\n",
    "# plt.imshow(np.abs(exp.W_trained['EE']['W'][:50,:50]-exp.W_trained['EE']['W_old'][:50,:50]))\n",
    "# plt.imshow(np.abs(exp.W_trained['EE']['W'][-50:,-50:]-exp.W_trained['EE']['W_old'][-50:,-50:]))"
   ]
  },
  {
   "cell_type": "code",
   "execution_count": 17,
   "metadata": {},
   "outputs": [
    {
     "data": {
      "text/plain": [
       "14.790919320501757"
      ]
     },
     "execution_count": 17,
     "metadata": {},
     "output_type": "execute_result"
    }
   ],
   "source": [
    "# W = exp._to_weight_matrix(synapse_group=exp.synapses['EE'],w_key='w_clopath')\n",
    "# dir(exp.synapses['EE'].variables)\n",
    "np.mean(exp.W_trained['EE']['W'][:50,-50:])\n",
    "np.mean(exp.W_trained['EE']['W'][:50,:50])\n",
    "np.max(exp.W_trained['EE']['W'][:50,:50])"
   ]
  },
  {
   "cell_type": "code",
   "execution_count": 18,
   "metadata": {},
   "outputs": [],
   "source": [
    "# plt.imshow(W)\n",
    "# w = W[:50,:50]\n",
    "# # w = W[-50:,-50:]\n",
    "# # w = W[0:50,50:100]\n",
    "# # w = W[-400:-300,-400:-300]\n",
    "# plt.figure()\n",
    "# w[np.nonzero(w)]"
   ]
  },
  {
   "cell_type": "code",
   "execution_count": 19,
   "metadata": {},
   "outputs": [
    {
     "data": {
      "text/plain": [
       "<synapses_EE.N_syn_total_recurrent: array([0., 0., 0., ..., 0., 0., 0.])>"
      ]
     },
     "execution_count": 19,
     "metadata": {},
     "output_type": "execute_result"
    }
   ],
   "source": [
    "exp.synapses['EE'].N_syn_total_recurrent"
   ]
  },
  {
   "cell_type": "code",
   "execution_count": 20,
   "metadata": {},
   "outputs": [
    {
     "data": {
      "text/plain": [
       "(500, 16500)"
      ]
     },
     "execution_count": 20,
     "metadata": {},
     "output_type": "execute_result"
    }
   ],
   "source": [
    "# (15000500./500.)\n",
    "test.shape"
   ]
  },
  {
   "cell_type": "code",
   "execution_count": 21,
   "metadata": {},
   "outputs": [],
   "source": [
    "# plt.plot(exp.rec['neurons']['E'].A_LTD_homeo.T)"
   ]
  },
  {
   "cell_type": "code",
   "execution_count": 22,
   "metadata": {},
   "outputs": [
    {
     "data": {
      "text/plain": [
       "array([65, 85])"
      ]
     },
     "execution_count": 22,
     "metadata": {},
     "output_type": "execute_result"
    }
   ],
   "source": [
    "test = exp.spike_rec['neurons']['E'].spike_trains()\n",
    "np.array(test[485]/(defaultclock.dt), dtype=int)"
   ]
  },
  {
   "cell_type": "code",
   "execution_count": null,
   "metadata": {},
   "outputs": [],
   "source": []
  },
  {
   "cell_type": "code",
   "execution_count": 23,
   "metadata": {},
   "outputs": [],
   "source": [
    "# exp.spike_rec.t"
   ]
  },
  {
   "cell_type": "code",
   "execution_count": 24,
   "metadata": {
    "scrolled": true
   },
   "outputs": [],
   "source": [
    "test= exp._spike_monitor_to_binary_array(spike_monitor=exp.spike_rec['neurons']['E'], P=exp.P)\n",
    "test = np.sum(test.reshape(test.shape[0],-1, 10), axis=2)"
   ]
  },
  {
   "cell_type": "code",
   "execution_count": 25,
   "metadata": {},
   "outputs": [
    {
     "data": {
      "text/plain": [
       "<synapses_EE.normalize: 1>"
      ]
     },
     "execution_count": 25,
     "metadata": {},
     "output_type": "execute_result"
    }
   ],
   "source": [
    "exp.synapses['EE'].normalize"
   ]
  },
  {
   "cell_type": "code",
   "execution_count": 26,
   "metadata": {
    "scrolled": true
   },
   "outputs": [
    {
     "data": {
      "text/plain": [
       "<matplotlib.image.AxesImage at 0x1f9054b3488>"
      ]
     },
     "execution_count": 26,
     "metadata": {},
     "output_type": "execute_result"
    },
    {
     "data": {
      "image/png": "[encoded data removed]",
      "text/plain": [
       "<Figure size 432x288 with 1 Axes>"
      ]
     },
     "metadata": {
      "needs_background": "light"
     },
     "output_type": "display_data"
    }
   ],
   "source": [
    "plt.imshow(test[50:150], cmap='binary',aspect='auto')\n",
    "\n",
    "# plt.imshow(test,aspect='auto')"
   ]
  },
  {
   "cell_type": "code",
   "execution_count": null,
   "metadata": {},
   "outputs": [],
   "source": []
  },
  {
   "cell_type": "code",
   "execution_count": 27,
   "metadata": {},
   "outputs": [
    {
     "data": {
      "text/plain": [
       "1572.0"
      ]
     },
     "execution_count": 27,
     "metadata": {},
     "output_type": "execute_result"
    }
   ],
   "source": [
    "np.sum(test[:30,15:])"
   ]
  },
  {
   "cell_type": "code",
   "execution_count": 28,
   "metadata": {},
   "outputs": [],
   "source": [
    "temp = np.array([[0,1,2,3],[4,5,6,7],[8,9,10,11]])"
   ]
  },
  {
   "cell_type": "code",
   "execution_count": 29,
   "metadata": {},
   "outputs": [
    {
     "data": {
      "text/plain": [
       "array([[[ 0,  1],\n",
       "        [ 2,  3]],\n",
       "\n",
       "       [[ 4,  5],\n",
       "        [ 6,  7]],\n",
       "\n",
       "       [[ 8,  9],\n",
       "        [10, 11]]])"
      ]
     },
     "execution_count": 29,
     "metadata": {},
     "output_type": "execute_result"
    }
   ],
   "source": [
    "temp.reshape(3,-1, 2)"
   ]
  },
  {
   "cell_type": "code",
   "execution_count": 30,
   "metadata": {},
   "outputs": [
    {
     "data": {
      "text/plain": [
       "<poissongroup.rates: [Subexpression refers to external parameters. Use \"group.rates[:]\"]>"
      ]
     },
     "execution_count": 30,
     "metadata": {},
     "output_type": "execute_result"
    }
   ],
   "source": [
    "exp.inputs['E'].rates"
   ]
  },
  {
   "cell_type": "code",
   "execution_count": 31,
   "metadata": {
    "scrolled": true
   },
   "outputs": [
    {
     "data": {
      "text/plain": [
       "[<matplotlib.lines.Line2D at 0x1f9073e1948>,\n",
       " <matplotlib.lines.Line2D at 0x1f9073e1b48>,\n",
       " <matplotlib.lines.Line2D at 0x1f9073e1e48>,\n",
       " <matplotlib.lines.Line2D at 0x1f90374c608>,\n",
       " <matplotlib.lines.Line2D at 0x1f90374cec8>,\n",
       " <matplotlib.lines.Line2D at 0x1f90374c9c8>,\n",
       " <matplotlib.lines.Line2D at 0x1f90374c3c8>,\n",
       " <matplotlib.lines.Line2D at 0x1f90374c4c8>,\n",
       " <matplotlib.lines.Line2D at 0x1f90374ce48>,\n",
       " <matplotlib.lines.Line2D at 0x1f90374c588>,\n",
       " <matplotlib.lines.Line2D at 0x1f907a157c8>,\n",
       " <matplotlib.lines.Line2D at 0x1f90731b0c8>,\n",
       " <matplotlib.lines.Line2D at 0x1f90731b4c8>,\n",
       " <matplotlib.lines.Line2D at 0x1f90731b808>,\n",
       " <matplotlib.lines.Line2D at 0x1f90731bb48>,\n",
       " <matplotlib.lines.Line2D at 0x1f90731be48>,\n",
       " <matplotlib.lines.Line2D at 0x1f90731b888>,\n",
       " <matplotlib.lines.Line2D at 0x1f90733ee88>,\n",
       " <matplotlib.lines.Line2D at 0x1f90733ef48>,\n",
       " <matplotlib.lines.Line2D at 0x1f90733e5c8>,\n",
       " <matplotlib.lines.Line2D at 0x1f90733e308>,\n",
       " <matplotlib.lines.Line2D at 0x1f90733e808>,\n",
       " <matplotlib.lines.Line2D at 0x1f90733ebc8>,\n",
       " <matplotlib.lines.Line2D at 0x1f90733e588>,\n",
       " <matplotlib.lines.Line2D at 0x1f903290688>,\n",
       " <matplotlib.lines.Line2D at 0x1f903768dc8>,\n",
       " <matplotlib.lines.Line2D at 0x1f903768248>,\n",
       " <matplotlib.lines.Line2D at 0x1f903768688>,\n",
       " <matplotlib.lines.Line2D at 0x1f903768948>,\n",
       " <matplotlib.lines.Line2D at 0x1f903768bc8>,\n",
       " <matplotlib.lines.Line2D at 0x1f903768ec8>,\n",
       " <matplotlib.lines.Line2D at 0x1f902ce1788>,\n",
       " <matplotlib.lines.Line2D at 0x1f902ce1688>]"
      ]
     },
     "execution_count": 31,
     "metadata": {},
     "output_type": "execute_result"
    },
    {
     "data": {
      "image/png": "[encoded data removed]",
      "text/plain": [
       "<Figure size 432x288 with 1 Axes>"
      ]
     },
     "metadata": {
      "needs_background": "light"
     },
     "output_type": "display_data"
    }
   ],
   "source": [
    "plt.plot(exp.timed_rates.values.T)"
   ]
  },
  {
   "cell_type": "code",
   "execution_count": 32,
   "metadata": {},
   "outputs": [
    {
     "data": {
      "text/plain": [
       "[<matplotlib.lines.Line2D at 0x1f9029914c8>]"
      ]
     },
     "execution_count": 32,
     "metadata": {},
     "output_type": "execute_result"
    },
    {
     "data": {
      "image/png": "[encoded data removed]",
      "text/plain": [
       "<Figure size 432x288 with 1 Axes>"
      ]
     },
     "metadata": {
      "needs_background": "light"
     },
     "output_type": "display_data"
    }
   ],
   "source": [
    "plt.plot(exp.rate_rec['assembly'].rate/Hz)"
   ]
  },
  {
   "cell_type": "code",
   "execution_count": 33,
   "metadata": {},
   "outputs": [
    {
     "data": {
      "text/plain": [
       "(0.0, 20.0)"
      ]
     },
     "execution_count": 33,
     "metadata": {},
     "output_type": "execute_result"
    },
    {
     "data": {
      "image/png": "[encoded data removed]",
      "text/plain": [
       "<Figure size 432x288 with 1 Axes>"
      ]
     },
     "metadata": {
      "needs_background": "light"
     },
     "output_type": "display_data"
    }
   ],
   "source": [
    "plt.plot(exp.rate_rec['assembly'].smooth_rate(width=10*ms))\n",
    "plt.ylim([0,20])"
   ]
  },
  {
   "cell_type": "code",
   "execution_count": 34,
   "metadata": {},
   "outputs": [],
   "source": [
    "# exp.rec['synapses']['EE'].normalize.shape\n",
    "# plt.plot(exp.rec['synapses']['EE'].normalize.T,'.')\n",
    "# plt.xlim([0,10])\n",
    "# plt.ylim([0,.001])\n",
    "# plt.plot(np.array(exp.rec['synapses']['EE'].normalize<defaultclock.dt, dtype=int).T,'.')"
   ]
  },
  {
   "cell_type": "code",
   "execution_count": null,
   "metadata": {},
   "outputs": [],
   "source": []
  }
 ],
 "metadata": {
  "kernelspec": {
   "display_name": "Python 2",
   "language": "python",
   "name": "python2"
  },
  "language_info": {
   "codemirror_mode": {
    "name": "ipython",
    "version": 2
   },
   "file_extension": ".py",
   "mimetype": "text/x-python",
   "name": "python",
   "nbconvert_exporter": "python",
   "pygments_lexer": "ipython2",
   "version": "2.7.16"
  }
 },
 "nbformat": 4,
 "nbformat_minor": 2
}
